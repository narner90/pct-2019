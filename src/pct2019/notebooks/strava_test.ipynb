{
 "cells": [
  {
   "cell_type": "code",
   "execution_count": 57,
   "metadata": {
    "ExecuteTime": {
     "end_time": "2019-11-14T08:11:32.027788Z",
     "start_time": "2019-11-14T08:11:32.007763Z"
    }
   },
   "outputs": [],
   "source": [
    "from stravalib.client import Client\n",
    "import time"
   ]
  },
  {
   "cell_type": "markdown",
   "metadata": {},
   "source": [
    "## Load Data From Strava"
   ]
  },
  {
   "cell_type": "markdown",
   "metadata": {},
   "source": [
    "## Web access post reuquest Demo (https://developers.strava.com/docs/getting-started/#oauth)\n",
    "curl -X POST https://www.strava.com/oauth/token \\\n",
    "    -F client_id=40761 \\\n",
    "    -F client_secret=72638d8c256371fea5e3a90819267d838a7de254 \\\n",
    "    -F code=005352d0601908e4ae3f8748141d14583197feb8 \\\n",
    "    -F grant_type=authorization_code"
   ]
  },
  {
   "cell_type": "code",
   "execution_count": 58,
   "metadata": {
    "ExecuteTime": {
     "end_time": "2019-11-14T08:11:32.472642Z",
     "start_time": "2019-11-14T08:11:32.030041Z"
    }
   },
   "outputs": [
    {
     "name": "stdout",
     "output_type": "stream",
     "text": [
      "expires at: 1573740692\n",
      "For 23066318, I now have an access token c0cb83df4e253400baf3a3ecf5beb9c7453e5118\n"
     ]
    }
   ],
   "source": [
    "client = Client()\n",
    "authorize_url = client.authorization_url(client_id=1234, redirect_uri='http://localhost:8282/authorized')\n",
    "# Have the user click the authorization URL, a 'code' param will be added to the redirect_uri\n",
    "# .....\n",
    "\n",
    "# Extract the code from your webapp response\n",
    "\n",
    "code = '57e0fff2b106d7dbe92246b35936cdcec9b28b1a'\n",
    "client_id = 40761\n",
    "client_secret = '72638d8c256371fea5e3a90819267d838a7de254'\n",
    "\n",
    "\n",
    "# code = request.get('code') # or whatever your framework does\n",
    "token_response = client.exchange_code_for_token(client_id=client_id, client_secret=client_secret, code=code)\n",
    "access_token = token_response['access_token']\n",
    "refresh_token = token_response['refresh_token']\n",
    "expires_at = token_response['expires_at']\n",
    "\n",
    "# Now store that short-lived access token somewhere (a database?)\n",
    "client.access_token = access_token\n",
    "# You must also store the refresh token to be used later on to obtain another valid access token \n",
    "# in case the current is already expired\n",
    "client.refresh_token = refresh_token\n",
    "\n",
    "# An access_token is only valid for 6 hours, store expires_at somewhere and\n",
    "# check it before making an API call.\n",
    "client.token_expires_at = expires_at\n",
    "print(f'expires at: {expires_at}')\n",
    " \n",
    "athlete = client.get_athlete()\n",
    "print(\"For {id}, I now have an access token {token}\".format(id=athlete.id, token=access_token))\n",
    "\n",
    "if time.time() > client.token_expires_at:\n",
    "    refresh_response = client.refresh_access_token(client_id=1234, client_secret='asdf1234',\n",
    "        refresh_token=client.refresh_token)\n",
    "    access_token = refresh_response['access_token']\n",
    "    refresh_token = refresh_response['refresh_token']\n",
    "    expires_at = refresh_response['expires_at']"
   ]
  },
  {
   "cell_type": "markdown",
   "metadata": {},
   "source": [
    "## Get some stats on current athlete (me)"
   ]
  },
  {
   "cell_type": "code",
   "execution_count": 59,
   "metadata": {
    "ExecuteTime": {
     "end_time": "2019-11-14T08:11:32.493252Z",
     "start_time": "2019-11-14T08:11:32.475225Z"
    }
   },
   "outputs": [],
   "source": [
    "client =  Client(access_token=access_token)"
   ]
  },
  {
   "cell_type": "code",
   "execution_count": 60,
   "metadata": {
    "ExecuteTime": {
     "end_time": "2019-11-14T08:11:32.516627Z",
     "start_time": "2019-11-14T08:11:32.496434Z"
    }
   },
   "outputs": [
    {
     "name": "stdout",
     "output_type": "stream",
     "text": [
      "Hello, Nate\n"
     ]
    }
   ],
   "source": [
    "print(\"Hello, {}\".format(athlete.firstname))"
   ]
  },
  {
   "cell_type": "code",
   "execution_count": 61,
   "metadata": {
    "ExecuteTime": {
     "end_time": "2019-11-14T08:11:35.569256Z",
     "start_time": "2019-11-14T08:11:32.519783Z"
    }
   },
   "outputs": [
    {
     "name": "stdout",
     "output_type": "stream",
     "text": [
      "Keystone Day 4 3:24:42\n",
      "Eldora XC skiing 1:58:05\n",
      "Muddy run w/ Zach 0:56:00\n",
      "New Albany 0:23:24\n",
      "Gahanna / New Albany 0:31:45\n"
     ]
    }
   ],
   "source": [
    "for activity in client.get_activities(after = \"2010-01-01T00:00:00Z\",  limit=5):\n",
    "    print(\"{0.name} {0.moving_time}\".format(activity))"
   ]
  },
  {
   "cell_type": "code",
   "execution_count": 65,
   "metadata": {
    "ExecuteTime": {
     "end_time": "2019-11-14T08:12:35.407849Z",
     "start_time": "2019-11-14T08:12:35.390403Z"
    }
   },
   "outputs": [],
   "source": [
    "activity_raw = client.get_activities(limit=1000)"
   ]
  },
  {
   "cell_type": "code",
   "execution_count": 66,
   "metadata": {
    "ExecuteTime": {
     "end_time": "2019-11-14T08:12:37.815675Z",
     "start_time": "2019-11-14T08:12:36.173866Z"
    }
   },
   "outputs": [],
   "source": [
    "activities = list(activity_raw)"
   ]
  },
  {
   "cell_type": "code",
   "execution_count": 67,
   "metadata": {
    "ExecuteTime": {
     "end_time": "2019-11-14T08:12:37.834033Z",
     "start_time": "2019-11-14T08:12:37.817553Z"
    }
   },
   "outputs": [
    {
     "name": "stdout",
     "output_type": "stream",
     "text": [
      "[<Activity id=2860959041 name='Afternoon Run' resource_state=2>, <Activity id=2853416180 name='Afternoon Run' resource_state=2>, <Activity id=2812026594 name='Afternoon Run' resource_state=2>, <Activity id=2783751735 name='Afternoon Run' resource_state=2>, <Activity id=2774187222 name='Day 127 - mi 2616 to mi 2649' resource_state=2>, <Activity id=2766213797 name='Day 125 - mi 2562 to Sierra City' resource_state=2>, <Activity id=2762859949 name='Day 123 - mi 2501 to mi 2531' resource_state=2>, <Activity id=2747816656 name='Day 119 - Kennedy Meadows North to Lake Tahoe' resource_state=2>, <Activity id=2742748833 name='Day 117 - mi 2351 to mi 2382' resource_state=2>, <Activity id=2742729093 name='Day 115 - Mammoth Lakes to mi 2320' resource_state=2>, <Activity id=2712765599 name='Day 113 - mi 2232 to mi 2266' resource_state=2>, <Activity id=2712758424 name='Day 111 - mi 2174 to mi 2200' resource_state=2>, <Activity id=2697800885 name='Day 109 - mi 2124 to mi 2149' resource_state=2>, <Activity id=2697781870 name='Day 107 - Dunsmuir to mi 2094' resource_state=2>, <Activity id=2688559056 name='Day 105 - mi 1101 to 1142' resource_state=2>, <Activity id=2685240876 name='Day 103 - Etna to mi 1068' resource_state=2>, <Activity id=2678075569 name='Day 101 - Seiad Valley to mi 1020' resource_state=2>, <Activity id=2671855712 name='Day 99 - mi 965 to mi 982' resource_state=2>, <Activity id=2665263601 name='Day 97 - Ashland to mi 950' resource_state=2>, <Activity id=2651492585 name='Day 92 - mi 868 to mi 902' resource_state=2>, <Activity id=2648229068 name='Morning Hike' resource_state=2>, <Activity id=2640058826 name='Day 88 - Shelter Cove Resort to mi 781' resource_state=2>, <Activity id=2634005960 name='Day 86 - Elk Lake Resort to mi 720' resource_state=2>, <Activity id=2628079836 name='Day 84 - mi 643 to mi 670' resource_state=2>, <Activity id=2625036347 name='Day 82 - mi 575 to mi 607' resource_state=2>, <Activity id=2614132476 name='Day 80 - mi 535 to Timberline Lodge' resource_state=2>, <Activity id=2605678112 name='Day 77 - mi 470 to Stevenson' resource_state=2>, <Activity id=2605673281 name='Day 75 - mi 423 to mi 447' resource_state=2>, <Activity id=2597231513 name='Day 73 - mi 368 to mi 403' resource_state=2>, <Activity id=2591262165 name='Day 71 - mi 315 to mi 348' resource_state=2>, <Activity id=2591229881 name='Day 69 - Snoqualmie Pass to mi 285' resource_state=2>, <Activity id=2580001781 name='Day 67 - mi 208 to mi 239' resource_state=2>, <Activity id=2568159793 name='Day 64 - mi 178 to Leavenworth' resource_state=2>, <Activity id=2568101159 name='Day 62 - mi 117 to mi 147' resource_state=2>, <Activity id=2568080256 name='Day 60 - Stehekin to mi 85' resource_state=2>, <Activity id=2568075208 name='Day 58 - mi 47 to mi 73' resource_state=2>, <Activity id=2568051100 name='Day 56 - Manning Park to mi 11' resource_state=2>, <Activity id=2532769526 name='Trail Intermission - Mt. Lincoln' resource_state=2>, <Activity id=2524284278 name='Day 54 - mi 879 to mi 892' resource_state=2>, <Activity id=2519110396 name='Day 52 - mi 826 to mi 849' resource_state=2>, <Activity id=2519094869 name='Day 50 - mi 789 to mi 809' resource_state=2>, <Activity id=2501828659 name='Day 47 - mi 788 to Bishop' resource_state=2>, <Activity id=2501815689 name='Day 45 Part 2 - mi 766 to mi 770' resource_state=2>, <Activity id=2501830267 name='Day 44 - mi 749 to mi 766' resource_state=2>, <Activity id=2501474144 name='Day 42 - Kennedy Meadows to mi 722' resource_state=2>, <Activity id=2483507883 name='Day 39 - mi 657 to mi 687' resource_state=2>, <Activity id=2475755567 name='Day 37 - mi 609 to mi 631' resource_state=2>, <Activity id=2475553182 name='Day 35 - Tehachapi to mi 583' resource_state=2>, <Activity id=2462006011 name='Day 31 Part 2 - Hikertown to mi 535' resource_state=2>, <Activity id=2458531803 name='Day 30 - Casa de Luna to mi 503' resource_state=2>, <Activity id=2446144883 name='Day 26 - mi 417 to 445' resource_state=2>, <Activity id=2443108635 name='Day 24 - Wrightwood to mi 384' resource_state=2>, <Activity id=2432063522 name='Day 20 - mi 295 to mi 320' resource_state=2>, <Activity id=2421194525 name='Day 17 - mi 251 to Big Bear Lake' resource_state=2>, <Activity id=2421188235 name='Day 15 - Bonus Miles' resource_state=2>, <Activity id=2413102198 name='Day 14 - Bonus Miles' resource_state=2>, <Activity id=2413022182 name='Day 13 - Idyllwild to Mount San Jacinto' resource_state=2>, <Activity id=2406777884 name='Day 11 - Mike’s Place to Mary’s' resource_state=2>, <Activity id=2394319741 name='Day 7 - Chery’s to Warner Springs' resource_state=2>, <Activity id=2386388247 name='Day 4 - mi. 64 to Scissors Crossing' resource_state=2>, <Activity id=2381822935 name='Day 2 - Lake Morena to Mount Laguna' resource_state=2>, <Activity id=2368477113 name='Afternoon Ride' resource_state=2>, <Activity id=2359246012 name='Afternoon Ride' resource_state=2>, <Activity id=2353913171 name='Afternoon Ride' resource_state=2>, <Activity id=2344208667 name='Afternoon Hike' resource_state=2>, <Activity id=2324010648 name='Evening Run' resource_state=2>, <Activity id=2319132115 name='Recovery Jog' resource_state=2>, <Activity id=2314065042 name='Walker Ranch Loop' resource_state=2>, <Activity id=2306149249 name='Saddle Rock from apartment' resource_state=2>, <Activity id=2275675498 name='Recovery jog' resource_state=2>, <Activity id=2267656875 name='Green Mountain Loop' resource_state=2>, <Activity id=2263131695 name='Boulder creek' resource_state=2>, <Activity id=2256043090 name='Sarasota' resource_state=2>, <Activity id=2242893967 name='Gahanna / New Albany' resource_state=2>, <Activity id=2209150988 name='New Albany' resource_state=2>, <Activity id=2196085405 name='Eldora XC skiing' resource_state=2>]\n"
     ]
    }
   ],
   "source": [
    "print(activities[0::2])"
   ]
  },
  {
   "cell_type": "code",
   "execution_count": 64,
   "metadata": {
    "ExecuteTime": {
     "end_time": "2019-11-14T08:11:37.270292Z",
     "start_time": "2019-11-14T08:11:37.151373Z"
    }
   },
   "outputs": [
    {
     "ename": "AttributeError",
     "evalue": "'NoneType' object has no attribute 'keys'",
     "output_type": "error",
     "traceback": [
      "\u001b[0;31m---------------------------------------------------------------------------\u001b[0m",
      "\u001b[0;31mAttributeError\u001b[0m                            Traceback (most recent call last)",
      "\u001b[0;32m<ipython-input-64-dc73ed783485>\u001b[0m in \u001b[0;36m<module>\u001b[0;34m\u001b[0m\n\u001b[1;32m      4\u001b[0m \u001b[0;34m\u001b[0m\u001b[0m\n\u001b[1;32m      5\u001b[0m \u001b[0;31m#  Result is a dictionary object.  The dict's key are the stream type.\u001b[0m\u001b[0;34m\u001b[0m\u001b[0;34m\u001b[0m\u001b[0m\n\u001b[0;32m----> 6\u001b[0;31m \u001b[0;32mif\u001b[0m \u001b[0;34m'altitude'\u001b[0m \u001b[0;32min\u001b[0m \u001b[0mstreams\u001b[0m\u001b[0;34m.\u001b[0m\u001b[0mkeys\u001b[0m\u001b[0;34m(\u001b[0m\u001b[0;34m)\u001b[0m\u001b[0;34m:\u001b[0m\u001b[0;34m\u001b[0m\u001b[0m\n\u001b[0m\u001b[1;32m      7\u001b[0m     \u001b[0mprint\u001b[0m\u001b[0;34m(\u001b[0m\u001b[0mstreams\u001b[0m\u001b[0;34m[\u001b[0m\u001b[0;34m'altitude'\u001b[0m\u001b[0;34m]\u001b[0m\u001b[0;34m.\u001b[0m\u001b[0mdata\u001b[0m\u001b[0;34m)\u001b[0m\u001b[0;34m\u001b[0m\u001b[0m\n",
      "\u001b[0;31mAttributeError\u001b[0m: 'NoneType' object has no attribute 'keys'"
     ]
    }
   ],
   "source": [
    "types = ['time', 'latlng', 'altitude', 'heartrate', 'temp']\n",
    "\n",
    "streams = client.get_activity_streams(123, types=types, resolution='medium')\n",
    "\n",
    "#  Result is a dictionary object.  The dict's key are the stream type.\n",
    "if 'altitude' in streams.keys():\n",
    "    print(streams['altitude'].data)"
   ]
  }
 ],
 "metadata": {
  "kernelspec": {
   "display_name": "Python 3",
   "language": "python",
   "name": "python3"
  },
  "language_info": {
   "codemirror_mode": {
    "name": "ipython",
    "version": 3
   },
   "file_extension": ".py",
   "mimetype": "text/x-python",
   "name": "python",
   "nbconvert_exporter": "python",
   "pygments_lexer": "ipython3",
   "version": "3.6.2"
  }
 },
 "nbformat": 4,
 "nbformat_minor": 2
}
