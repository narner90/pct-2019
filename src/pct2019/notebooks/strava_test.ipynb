{
 "cells": [
  {
   "cell_type": "code",
   "execution_count": 83,
   "metadata": {
    "ExecuteTime": {
     "end_time": "2019-11-14T08:23:04.175230Z",
     "start_time": "2019-11-14T08:23:04.146656Z"
    }
   },
   "outputs": [],
   "source": [
    "from stravalib.client import Client\n",
    "import time\n",
    "import pandas as pd\n",
    "\n",
    "import seaborn as sns\n",
    "sns.set(font_scale=1.5)\n",
    "sns.set_style(\"whitegrid\")\n",
    "\n",
    "import matplotlib.pyplot as plt\n",
    "%matplotlib inline"
   ]
  },
  {
   "cell_type": "markdown",
   "metadata": {},
   "source": [
    "## Load Data From Strava"
   ]
  },
  {
   "cell_type": "markdown",
   "metadata": {},
   "source": [
    "## Web access post reuquest Demo (https://developers.strava.com/docs/getting-started/#oauth)\n",
    "curl -X POST https://www.strava.com/oauth/token \\\n",
    "    -F client_id=40761 \\\n",
    "    -F client_secret=72638d8c256371fea5e3a90819267d838a7de254 \\\n",
    "    -F code=005352d0601908e4ae3f8748141d14583197feb8 \\\n",
    "    -F grant_type=authorization_code"
   ]
  },
  {
   "cell_type": "code",
   "execution_count": 58,
   "metadata": {
    "ExecuteTime": {
     "end_time": "2019-11-14T08:11:32.472642Z",
     "start_time": "2019-11-14T08:11:32.030041Z"
    }
   },
   "outputs": [
    {
     "name": "stdout",
     "output_type": "stream",
     "text": [
      "expires at: 1573740692\n",
      "For 23066318, I now have an access token c0cb83df4e253400baf3a3ecf5beb9c7453e5118\n"
     ]
    }
   ],
   "source": [
    "client = Client()\n",
    "authorize_url = client.authorization_url(client_id=1234, redirect_uri='http://localhost:8282/authorized')\n",
    "# Have the user click the authorization URL, a 'code' param will be added to the redirect_uri\n",
    "# .....\n",
    "\n",
    "# Extract the code from your webapp response\n",
    "\n",
    "code = '57e0fff2b106d7dbe92246b35936cdcec9b28b1a'\n",
    "client_id = 40761\n",
    "client_secret = '72638d8c256371fea5e3a90819267d838a7de254'\n",
    "\n",
    "\n",
    "# code = request.get('code') # or whatever your framework does\n",
    "token_response = client.exchange_code_for_token(client_id=client_id, client_secret=client_secret, code=code)\n",
    "access_token = token_response['access_token']\n",
    "refresh_token = token_response['refresh_token']\n",
    "expires_at = token_response['expires_at']\n",
    "\n",
    "# Now store that short-lived access token somewhere (a database?)\n",
    "client.access_token = access_token\n",
    "# You must also store the refresh token to be used later on to obtain another valid access token \n",
    "# in case the current is already expired\n",
    "client.refresh_token = refresh_token\n",
    "\n",
    "# An access_token is only valid for 6 hours, store expires_at somewhere and\n",
    "# check it before making an API call.\n",
    "client.token_expires_at = expires_at\n",
    "print(f'expires at: {expires_at}')\n",
    " \n",
    "athlete = client.get_athlete()\n",
    "print(\"For {id}, I now have an access token {token}\".format(id=athlete.id, token=access_token))\n",
    "\n",
    "if time.time() > client.token_expires_at:\n",
    "    refresh_response = client.refresh_access_token(client_id=1234, client_secret='asdf1234',\n",
    "        refresh_token=client.refresh_token)\n",
    "    access_token = refresh_response['access_token']\n",
    "    refresh_token = refresh_response['refresh_token']\n",
    "    expires_at = refresh_response['expires_at']"
   ]
  },
  {
   "cell_type": "markdown",
   "metadata": {},
   "source": [
    "## Get some stats on current athlete (me)"
   ]
  },
  {
   "cell_type": "code",
   "execution_count": 59,
   "metadata": {
    "ExecuteTime": {
     "end_time": "2019-11-14T08:11:32.493252Z",
     "start_time": "2019-11-14T08:11:32.475225Z"
    }
   },
   "outputs": [],
   "source": [
    "client =  Client(access_token=access_token)"
   ]
  },
  {
   "cell_type": "code",
   "execution_count": 60,
   "metadata": {
    "ExecuteTime": {
     "end_time": "2019-11-14T08:11:32.516627Z",
     "start_time": "2019-11-14T08:11:32.496434Z"
    }
   },
   "outputs": [
    {
     "name": "stdout",
     "output_type": "stream",
     "text": [
      "Hello, Nate\n"
     ]
    }
   ],
   "source": [
    "print(\"Hello, {}\".format(athlete.firstname))"
   ]
  },
  {
   "cell_type": "code",
   "execution_count": 61,
   "metadata": {
    "ExecuteTime": {
     "end_time": "2019-11-14T08:11:35.569256Z",
     "start_time": "2019-11-14T08:11:32.519783Z"
    }
   },
   "outputs": [
    {
     "name": "stdout",
     "output_type": "stream",
     "text": [
      "Keystone Day 4 3:24:42\n",
      "Eldora XC skiing 1:58:05\n",
      "Muddy run w/ Zach 0:56:00\n",
      "New Albany 0:23:24\n",
      "Gahanna / New Albany 0:31:45\n"
     ]
    }
   ],
   "source": [
    "for activity in client.get_activities(after = \"2010-01-01T00:00:00Z\",  limit=5):\n",
    "    print(\"{0.name} {0.moving_time}\".format(activity))"
   ]
  },
  {
   "cell_type": "code",
   "execution_count": 65,
   "metadata": {
    "ExecuteTime": {
     "end_time": "2019-11-14T08:12:35.407849Z",
     "start_time": "2019-11-14T08:12:35.390403Z"
    }
   },
   "outputs": [],
   "source": [
    "activity_raw = client.get_activities(limit=1000)"
   ]
  },
  {
   "cell_type": "code",
   "execution_count": 66,
   "metadata": {
    "ExecuteTime": {
     "end_time": "2019-11-14T08:12:37.815675Z",
     "start_time": "2019-11-14T08:12:36.173866Z"
    }
   },
   "outputs": [],
   "source": [
    "activities = list(activity_raw)"
   ]
  },
  {
   "cell_type": "code",
   "execution_count": 71,
   "metadata": {
    "ExecuteTime": {
     "end_time": "2019-11-14T08:13:32.310744Z",
     "start_time": "2019-11-14T08:13:32.291017Z"
    }
   },
   "outputs": [
    {
     "name": "stdout",
     "output_type": "stream",
     "text": [
      "152\n"
     ]
    }
   ],
   "source": [
    "print(len(activities))"
   ]
  },
  {
   "cell_type": "markdown",
   "metadata": {},
   "source": [
    "## Data Test"
   ]
  },
  {
   "cell_type": "code",
   "execution_count": 80,
   "metadata": {
    "ExecuteTime": {
     "end_time": "2019-11-14T08:17:55.473416Z",
     "start_time": "2019-11-14T08:17:55.443551Z"
    }
   },
   "outputs": [
    {
     "data": {
      "text/html": [
       "<div>\n",
       "<style scoped>\n",
       "    .dataframe tbody tr th:only-of-type {\n",
       "        vertical-align: middle;\n",
       "    }\n",
       "\n",
       "    .dataframe tbody tr th {\n",
       "        vertical-align: top;\n",
       "    }\n",
       "\n",
       "    .dataframe thead th {\n",
       "        text-align: right;\n",
       "    }\n",
       "</style>\n",
       "<table border=\"1\" class=\"dataframe\">\n",
       "  <thead>\n",
       "    <tr style=\"text-align: right;\">\n",
       "      <th></th>\n",
       "      <th>high</th>\n",
       "      <th>low</th>\n",
       "    </tr>\n",
       "  </thead>\n",
       "  <tbody>\n",
       "    <tr>\n",
       "      <th>1</th>\n",
       "      <td>1775.0</td>\n",
       "      <td>1606.8</td>\n",
       "    </tr>\n",
       "    <tr>\n",
       "      <th>2</th>\n",
       "      <td>1657.2</td>\n",
       "      <td>1632.0</td>\n",
       "    </tr>\n",
       "    <tr>\n",
       "      <th>3</th>\n",
       "      <td>295.2</td>\n",
       "      <td>286.6</td>\n",
       "    </tr>\n",
       "    <tr>\n",
       "      <th>4</th>\n",
       "      <td>312.2</td>\n",
       "      <td>284.2</td>\n",
       "    </tr>\n",
       "    <tr>\n",
       "      <th>5</th>\n",
       "      <td>314.8</td>\n",
       "      <td>286.8</td>\n",
       "    </tr>\n",
       "  </tbody>\n",
       "</table>\n",
       "</div>"
      ],
      "text/plain": [
       "     high     low\n",
       "1  1775.0  1606.8\n",
       "2  1657.2  1632.0\n",
       "3   295.2   286.6\n",
       "4   312.2   284.2\n",
       "5   314.8   286.8"
      ]
     },
     "execution_count": 80,
     "metadata": {},
     "output_type": "execute_result"
    }
   ],
   "source": [
    "d = {\n",
    "    'high' : [a.elev_high for a in activities],\n",
    "    'low' :  [a.elev_low for a in activities]\n",
    "}\n",
    "elevation_range = pd.DataFrame.from_dict(d).dropna()\n",
    "elevation_range.head()"
   ]
  },
  {
   "cell_type": "markdown",
   "metadata": {
    "ExecuteTime": {
     "end_time": "2019-11-14T08:29:47.023422Z",
     "start_time": "2019-11-14T08:29:46.999708Z"
    }
   },
   "source": [
    "### Drop bad data (why is it bad?)"
   ]
  },
  {
   "cell_type": "code",
   "execution_count": 99,
   "metadata": {
    "ExecuteTime": {
     "end_time": "2019-11-14T08:30:19.555184Z",
     "start_time": "2019-11-14T08:30:19.524229Z"
    }
   },
   "outputs": [],
   "source": [
    "elevation_range = elevation_range[elevation_range.high -  elevation_range.low < 5000]"
   ]
  },
  {
   "cell_type": "code",
   "execution_count": 100,
   "metadata": {
    "ExecuteTime": {
     "end_time": "2019-11-14T08:30:21.611445Z",
     "start_time": "2019-11-14T08:30:21.586187Z"
    }
   },
   "outputs": [],
   "source": [
    "#  Note: Added the \"if\" condition because there seems to be a bad day\n",
    "y_plot_data = [(y_min, y_max) for y_min, y_max  in zip(elevation_range.low, elevation_range.high)]"
   ]
  },
  {
   "cell_type": "code",
   "execution_count": null,
   "metadata": {
    "ExecuteTime": {
     "start_time": "2019-11-14T08:30:49.172Z"
    }
   },
   "outputs": [],
   "source": [
    "f, axarr = plt.subplots(figsize=(20, 10), dpi=100)\n",
    "sns.boxplot(x=elevation_range.index, y=y_plot_data)\n",
    "plt.title('Elevation Range Over Strava Activity #')\n",
    "plt.show()"
   ]
  },
  {
   "cell_type": "code",
   "execution_count": null,
   "metadata": {},
   "outputs": [],
   "source": []
  }
 ],
 "metadata": {
  "kernelspec": {
   "display_name": "Python 3",
   "language": "python",
   "name": "python3"
  },
  "language_info": {
   "codemirror_mode": {
    "name": "ipython",
    "version": 3
   },
   "file_extension": ".py",
   "mimetype": "text/x-python",
   "name": "python",
   "nbconvert_exporter": "python",
   "pygments_lexer": "ipython3",
   "version": "3.6.2"
  }
 },
 "nbformat": 4,
 "nbformat_minor": 2
}
