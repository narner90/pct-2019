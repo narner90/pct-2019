{
 "cells": [
  {
   "cell_type": "code",
   "execution_count": null,
   "metadata": {},
   "outputs": [],
   "source": [
    "from stravalib.client import Client\n",
    "import time\n",
    "import pandas as pd\n",
    "\n",
    "from datetime import datetime\n",
    "\n",
    "import plotly.express as px\n",
    "import seaborn as sns\n",
    "sns.set(font_scale=2)\n",
    "sns.set_style(\"whitegrid\")\n",
    "\n",
    "import matplotlib.pyplot as plt\n",
    "%matplotlib inline"
   ]
  },
  {
   "cell_type": "markdown",
   "metadata": {},
   "source": [
    "## Load Data From Strava"
   ]
  },
  {
   "cell_type": "markdown",
   "metadata": {},
   "source": [
    "## Web access post reuquest Demo (https://developers.strava.com/docs/getting-started/#oauth)\n",
    "curl -X POST https://www.strava.com/oauth/token \\\n",
    "    -F client_id=40761 \\\n",
    "    -F client_secret=72638d8c256371fea5e3a90819267d838a7de254 \\\n",
    "    -F code=005352d0601908e4ae3f8748141d14583197feb8 \\\n",
    "    -F grant_type=authorization_code"
   ]
  },
  {
   "cell_type": "code",
   "execution_count": null,
   "metadata": {},
   "outputs": [],
   "source": [
    "client = Client()\n",
    "scope = ['read', 'profile:read_all', 'activity:read']\n",
    "authorize_url = client.authorization_url(client_id=40761, redirect_uri='http://localhost:8282/authorized', scope=scope)\n",
    "print(f'Auth url: {authorize_url}')\n",
    "# Have the user click the authorization URL, a 'code' param will be added to the redirect_uri\n",
    "# .....\n",
    "\n",
    "# Extract the code from your webapp response\n",
    "\n",
    "code = '8ff30994605bf6d619de11731db26854e6b07d4a'\n",
    "client_id = 40761\n",
    "client_secret = '72638d8c256371fea5e3a90819267d838a7de254'\n",
    "\n",
    "\n",
    "# code = request.get('code') # or whatever your framework does\n",
    "token_response = client.exchange_code_for_token(client_id=client_id, client_secret=client_secret, code=code)\n",
    "access_token = token_response['access_token']\n",
    "refresh_token = token_response['refresh_token']\n",
    "expires_at = token_response['expires_at']\n",
    "\n",
    "# Now store that short-lived access token somewhere (a database?)\n",
    "client.access_token = access_token\n",
    "# You must also store the refresh token to be used later on to obtain another valid access token \n",
    "# in case the current is already expired\n",
    "client.refresh_token = refresh_token\n",
    "\n",
    "# An access_token is only valid for 6 hours, store expires_at somewhere and\n",
    "# check it before making an API call.\n",
    "client.token_expires_at = expires_at\n",
    "print(f'expires at: {expires_at}')\n",
    " \n",
    "athlete = client.get_athlete()\n",
    "print(\"For {id}, I now have an access token {token}\".format(id=athlete.id, token=access_token))\n",
    "\n",
    "if time.time() > client.token_expires_at:\n",
    "    refresh_response = client.refresh_access_token(client_id=1234, client_secret='asdf1234',\n",
    "        refresh_token=client.refresh_token)\n",
    "    access_token = refresh_response['access_token']\n",
    "    refresh_token = refresh_response['refresh_token']\n",
    "    expires_at = refresh_response['expires_at']"
   ]
  },
  {
   "cell_type": "markdown",
   "metadata": {},
   "source": [
    "## Get some stats on current athlete (me)"
   ]
  },
  {
   "cell_type": "code",
   "execution_count": null,
   "metadata": {},
   "outputs": [],
   "source": [
    "client =  Client(access_token=access_token)"
   ]
  },
  {
   "cell_type": "code",
   "execution_count": null,
   "metadata": {},
   "outputs": [],
   "source": [
    "print(\"Hello, {}\".format(athlete.firstname))"
   ]
  },
  {
   "cell_type": "code",
   "execution_count": null,
   "metadata": {},
   "outputs": [],
   "source": [
    "for activity in client.get_activities(after = \"2010-01-01T00:00:00Z\",  limit=5):\n",
    "    print(\"{0.name} {0.moving_time}\".format(activity))"
   ]
  },
  {
   "cell_type": "code",
   "execution_count": null,
   "metadata": {},
   "outputs": [],
   "source": [
    "activity_raw = client.get_activities(limit=1000)"
   ]
  },
  {
   "cell_type": "code",
   "execution_count": null,
   "metadata": {},
   "outputs": [],
   "source": [
    "activities = list(activity_raw)"
   ]
  },
  {
   "cell_type": "code",
   "execution_count": null,
   "metadata": {},
   "outputs": [],
   "source": [
    "print(len(activities))"
   ]
  },
  {
   "cell_type": "markdown",
   "metadata": {},
   "source": [
    "### Filter On PCT"
   ]
  },
  {
   "cell_type": "code",
   "execution_count": null,
   "metadata": {},
   "outputs": [],
   "source": [
    "# Could do a regex to make this more accurate\n",
    "pct_raw = [a for a in activities if a.name.startswith('Day ')]\n",
    "pct_raw.reverse()\n",
    "print([n.name for n in pct_raw[0:5]])"
   ]
  },
  {
   "cell_type": "markdown",
   "metadata": {},
   "source": [
    "## Data Test"
   ]
  },
  {
   "cell_type": "code",
   "execution_count": null,
   "metadata": {},
   "outputs": [],
   "source": [
    "pct = {\n",
    "    'elev_high' : [a.elev_high for a in pct_raw],\n",
    "    'elev_low' :  [a.elev_low for a in pct_raw],\n",
    "    'km': [float(a.distance / 1000) for a in pct_raw],\n",
    "    'label': [a.name for a in pct_raw],\n",
    "    'total_elevation_gain': [float(a.total_elevation_gain) for a in pct_raw],\n",
    "    'activity_id': [a.id for a in pct_raw],\n",
    "    'date': [datetime.date(a.start_date) for a in pct_raw]\n",
    "}\n",
    "pct = pd.DataFrame.from_dict(pct).dropna()\n",
    "pct.head(20)"
   ]
  },
  {
   "cell_type": "markdown",
   "metadata": {},
   "source": [
    "### Deal With Dirty data (is it just elevation on day 63?)"
   ]
  },
  {
   "cell_type": "code",
   "execution_count": null,
   "metadata": {},
   "outputs": [],
   "source": [
    "bad_data_filter = pct.elev_high - pct.elev_low > 5000\n",
    "print(f'Dropping Bad Data: {pct[bad_data_filter]}')\n",
    "pct = pct[~bad_data_filter]"
   ]
  },
  {
   "cell_type": "code",
   "execution_count": null,
   "metadata": {},
   "outputs": [],
   "source": [
    "#  Note: Added the \"if\" condition because there seems to be a bad day\n",
    "y_plot_data = [(y_min, y_max) for y_min, y_max  in zip(pct.elev_low, pct.elev_high)]"
   ]
  },
  {
   "cell_type": "code",
   "execution_count": null,
   "metadata": {},
   "outputs": [],
   "source": [
    "f, axarr = plt.subplots(figsize=(10, 5), dpi=200)\n",
    "sns.boxplot(x=pct.index, y=y_plot_data)\n",
    "plt.title('Elevation Range Over Strava Activity #')\n",
    "axarr.set_ylabel('Meters')\n",
    "axarr.set_ylabel('Day')\n",
    "plt.show()"
   ]
  },
  {
   "cell_type": "code",
   "execution_count": null,
   "metadata": {},
   "outputs": [],
   "source": [
    "pct.km.mean()"
   ]
  },
  {
   "cell_type": "code",
   "execution_count": null,
   "metadata": {},
   "outputs": [],
   "source": [
    "f, axarr = plt.subplots(figsize=(6, 4), dpi=100)\n",
    "plt.title('Daily Distance Histogram')\n",
    "sns.distplot(pct.km, bins=20)\n",
    "plt.show()"
   ]
  },
  {
   "cell_type": "code",
   "execution_count": null,
   "metadata": {},
   "outputs": [],
   "source": [
    "import matplotlib.pyplot as plt\n",
    "import numpy as np\n",
    "from matplotlib.ticker import FormatStrFormatter\n",
    "\n",
    "def build_pct_historgram(base_data=pct.km, default_dpi=500, lower_percentile=25, upper_percentile=75):\n",
    "    data = base_data\n",
    "    fig, ax = plt.subplots(figsize=(20, 8), dpi=default_dpi)\n",
    "    counts, bins, patches = ax.hist(data, facecolor='yellow', edgecolor='gray')\n",
    "\n",
    "    ax.set_xticks(bins)\n",
    "    ax.xaxis.set_major_formatter(FormatStrFormatter('%0.1f'))\n",
    "\n",
    "    lower_color_change_percentile, upper_color_change_percentile = np.percentile(data, [lower_percentile, upper_percentile])\n",
    "    for patch, right_side, left_side in zip(patches, bins[1:], bins[:-1]):\n",
    "        if right_side < lower_color_change_percentile:\n",
    "            patch.set_facecolor('green')\n",
    "        elif left_side > upper_color_change_percentile:\n",
    "            patch.set_facecolor('red')\n",
    "\n",
    "    bin_centers = 0.5 * np.diff(bins) + bins[:-1]\n",
    "    for count, x in zip(counts, bin_centers):\n",
    "        ax.annotate(str(count), xy=(x, 0), xycoords=('data', 'axes fraction'),\n",
    "            xytext=(0, -18), textcoords='offset points', va='top', ha='center')\n",
    "\n",
    "        # Label the percentages\n",
    "        percent = '%0.0f%%' % (100 * float(count) / counts.sum())\n",
    "        ax.annotate(percent, xy=(x, 0), xycoords=('data', 'axes fraction'),\n",
    "            xytext=(0, -40), textcoords='offset points', va='top', ha='center')\n",
    "\n",
    "\n",
    "    plt.subplots_adjust(bottom=0.15)\n",
    "    plt.xlabel('Kilometers', labelpad=50)\n",
    "    plt.ylabel('Bin Count')\n",
    "    # Seems backwards but it's how they do it\n",
    "    plt.title('Median Distance: ' + str(pct.km.median()),fontsize=16)\n",
    "    plt.suptitle('Narner 2019 PCT Per-Actvity Distance Histogram: ' + str(\"Mean Diatance = \") + str(pct.km.mean()), fontsize=24)\n",
    "    plt.show()\n",
    "    plt.savefig('pct_distance_per_activity_loggged.png')"
   ]
  },
  {
   "cell_type": "code",
   "execution_count": null,
   "metadata": {},
   "outputs": [],
   "source": [
    "build_pct_historgram()"
   ]
  },
  {
   "cell_type": "code",
   "execution_count": null,
   "metadata": {},
   "outputs": [],
   "source": [
    "f, axarr = plt.subplots(figsize=(6, 4), dpi=100)\n",
    "plt.title(f'Daily Elevation Change Histogram\\nMean: {pct.total_elevation_gain.mean():.2f}m')\n",
    "sns.distplot(pct.total_elevation_gain, bins=20)\n",
    "plt.show()"
   ]
  },
  {
   "cell_type": "code",
   "execution_count": null,
   "metadata": {},
   "outputs": [],
   "source": [
    "km_to_mi = 0.621371\n",
    "total_pct_miles = 2663\n",
    "mpd = pct.km.mean() * 0.621371\n",
    "total_distance_mi = sum(pct.km) * 0.621371\n",
    "bias = total_distance_mi / total_pct_miles\n",
    "\n",
    "print(f'Miles Per Day: {mpd:.2f}')\n",
    "print(f'Total Measured Distance: {total_distance_mi:g} mi')\n",
    "print(f'Real Distance: {total_pct_miles} mi')\n",
    "print(f'Recording Bias: {bias*100:0.2f}% of total mileage recorded')\n"
   ]
  },
  {
   "cell_type": "markdown",
   "metadata": {},
   "source": [
    "### Zeros/Neros\n",
    "Task: Regex out day#, then create distance=0 rows for zero days"
   ]
  },
  {
   "cell_type": "code",
   "execution_count": null,
   "metadata": {},
   "outputs": [],
   "source": []
  },
  {
   "cell_type": "markdown",
   "metadata": {},
   "source": [
    "### High Fidelity Activity Data"
   ]
  },
  {
   "cell_type": "code",
   "execution_count": null,
   "metadata": {},
   "outputs": [],
   "source": [
    "pct.sort_values('km', ascending=False)"
   ]
  },
  {
   "cell_type": "code",
   "execution_count": null,
   "metadata": {},
   "outputs": [],
   "source": [
    "sample_id = 2747816656 # Day 1\n",
    "types = ['time', 'latlng', 'altitude', 'heartrate', 'temp', 'velocity_smooth']\n",
    "sample_stream = client.get_activity_streams(activity_id=sample_id, types=types)"
   ]
  },
  {
   "cell_type": "code",
   "execution_count": null,
   "metadata": {},
   "outputs": [],
   "source": [
    "sample_stream"
   ]
  },
  {
   "cell_type": "code",
   "execution_count": null,
   "metadata": {},
   "outputs": [],
   "source": [
    "sample_stream['heartrate'].data"
   ]
  },
  {
   "cell_type": "code",
   "execution_count": null,
   "metadata": {},
   "outputs": [],
   "source": [
    "sample_stream['time'].data[-1]"
   ]
  },
  {
   "cell_type": "code",
   "execution_count": null,
   "metadata": {},
   "outputs": [],
   "source": [
    "meters_per_second_to_miles_per_hour = "
   ]
  },
  {
   "cell_type": "code",
   "execution_count": null,
   "metadata": {},
   "outputs": [],
   "source": [
    "sample_stream['distance'].data[-1] / sample_stream['time'].data[-1] * "
   ]
  },
  {
   "cell_type": "code",
   "execution_count": null,
   "metadata": {},
   "outputs": [],
   "source": [
    "stream_data"
   ]
  },
  {
   "cell_type": "code",
   "execution_count": null,
   "metadata": {},
   "outputs": [],
   "source": []
  }
 ],
 "metadata": {
  "kernelspec": {
   "display_name": "Python 3 (ipykernel)",
   "language": "python",
   "name": "python3"
  },
  "language_info": {
   "codemirror_mode": {
    "name": "ipython",
    "version": 3
   },
   "file_extension": ".py",
   "mimetype": "text/x-python",
   "name": "python",
   "nbconvert_exporter": "python",
   "pygments_lexer": "ipython3",
   "version": "3.9.5"
  }
 },
 "nbformat": 4,
 "nbformat_minor": 2
}
